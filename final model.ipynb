{
 "cells": [
  {
   "cell_type": "code",
   "execution_count": 1,
   "id": "afd6645b",
   "metadata": {},
   "outputs": [],
   "source": [
    "import pickle\n",
    "loaded_model=pickle.load(open('Random_forest_finalmodel.sav','rb'))\n"
   ]
  },
  {
   "cell_type": "code",
   "execution_count": 2,
   "id": "c2a3b4c0",
   "metadata": {},
   "outputs": [
    {
     "name": "stdout",
     "output_type": "stream",
     "text": [
      "Enter Lagging_Current_Reactive.Power_kVarh value: 17\n",
      "Enter Leading_Current_Reactive_Power_kVarh value: 12\n",
      "Enter Lagging_Current_Power_Factor value : 80\n",
      "Enter Leading_Current_Power_Factor value : 900\n",
      "NSM value: 6000\n"
     ]
    }
   ],
   "source": [
    "Lagging_Current_Reactive_Power_kVarh=int(input('Enter Lagging_Current_Reactive.Power_kVarh value: '))\n",
    "Leading_Current_Reactive_Power_kVarh=int(input('Enter Leading_Current_Reactive_Power_kVarh value: '))\n",
    "Lagging_Current_Power_Factor=int(input('Enter Lagging_Current_Power_Factor value : '))\n",
    "Leading_Current_Power_Factor=int(input('Enter Leading_Current_Power_Factor value : '))\n",
    "NSM=int(input('NSM value: '))"
   ]
  },
  {
   "cell_type": "code",
   "execution_count": 3,
   "id": "1d2d9c1c",
   "metadata": {},
   "outputs": [
    {
     "name": "stderr",
     "output_type": "stream",
     "text": [
      "C:\\Users\\Priya\\anaconda3\\envs\\ml\\lib\\site-packages\\sklearn\\utils\\fixes.py:230: DeprecationWarning: distutils Version classes are deprecated. Use packaging.version instead.\n",
      "  if _joblib.__version__ >= LooseVersion('0.12'):\n"
     ]
    }
   ],
   "source": [
    "result=loaded_model.predict([[Lagging_Current_Reactive_Power_kVarh,Leading_Current_Reactive_Power_kVarh,Lagging_Current_Power_Factor,\n",
    "                         Leading_Current_Power_Factor  ,NSM]])"
   ]
  },
  {
   "cell_type": "code",
   "execution_count": 4,
   "id": "871b9caa",
   "metadata": {},
   "outputs": [
    {
     "data": {
      "text/plain": [
       "array([25.2])"
      ]
     },
     "execution_count": 4,
     "metadata": {},
     "output_type": "execute_result"
    }
   ],
   "source": [
    "result"
   ]
  },
  {
   "cell_type": "code",
   "execution_count": null,
   "id": "6ffcc813",
   "metadata": {},
   "outputs": [],
   "source": []
  },
  {
   "cell_type": "code",
   "execution_count": null,
   "id": "e218146e",
   "metadata": {},
   "outputs": [],
   "source": []
  },
  {
   "cell_type": "code",
   "execution_count": null,
   "id": "9fda384c",
   "metadata": {},
   "outputs": [],
   "source": []
  }
 ],
 "metadata": {
  "kernelspec": {
   "display_name": "Python 3 (ipykernel)",
   "language": "python",
   "name": "python3"
  },
  "language_info": {
   "codemirror_mode": {
    "name": "ipython",
    "version": 3
   },
   "file_extension": ".py",
   "mimetype": "text/x-python",
   "name": "python",
   "nbconvert_exporter": "python",
   "pygments_lexer": "ipython3",
   "version": "3.7.6"
  }
 },
 "nbformat": 4,
 "nbformat_minor": 5
}
