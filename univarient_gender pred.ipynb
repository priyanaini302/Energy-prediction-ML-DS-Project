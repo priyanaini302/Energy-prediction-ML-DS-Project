{
 "cells": [
  {
   "cell_type": "code",
   "execution_count": 1,
   "id": "3434137c",
   "metadata": {},
   "outputs": [],
   "source": [
    "import pandas as pd"
   ]
  },
  {
   "cell_type": "code",
   "execution_count": 2,
   "id": "21c787d3",
   "metadata": {},
   "outputs": [],
   "source": [
    "dataset=pd.read_csv(\"Pre_processdata.csv\")"
   ]
  },
  {
   "cell_type": "code",
   "execution_count": 3,
   "id": "e697c02d",
   "metadata": {},
   "outputs": [
    {
     "data": {
      "text/html": [
       "<div>\n",
       "<style scoped>\n",
       "    .dataframe tbody tr th:only-of-type {\n",
       "        vertical-align: middle;\n",
       "    }\n",
       "\n",
       "    .dataframe tbody tr th {\n",
       "        vertical-align: top;\n",
       "    }\n",
       "\n",
       "    .dataframe thead th {\n",
       "        text-align: right;\n",
       "    }\n",
       "</style>\n",
       "<table border=\"1\" class=\"dataframe\">\n",
       "  <thead>\n",
       "    <tr style=\"text-align: right;\">\n",
       "      <th></th>\n",
       "      <th>long_hair</th>\n",
       "      <th>forehead_width_cm</th>\n",
       "      <th>forehead_height_cm</th>\n",
       "      <th>nose_wide</th>\n",
       "      <th>nose_long</th>\n",
       "      <th>lips_thin</th>\n",
       "      <th>distance_nose_to_lip_long</th>\n",
       "      <th>gender</th>\n",
       "    </tr>\n",
       "  </thead>\n",
       "  <tbody>\n",
       "    <tr>\n",
       "      <th>0</th>\n",
       "      <td>1</td>\n",
       "      <td>11.8</td>\n",
       "      <td>6.1</td>\n",
       "      <td>1</td>\n",
       "      <td>0</td>\n",
       "      <td>1</td>\n",
       "      <td>1</td>\n",
       "      <td>Male</td>\n",
       "    </tr>\n",
       "    <tr>\n",
       "      <th>1</th>\n",
       "      <td>1</td>\n",
       "      <td>14.0</td>\n",
       "      <td>5.4</td>\n",
       "      <td>0</td>\n",
       "      <td>0</td>\n",
       "      <td>1</td>\n",
       "      <td>0</td>\n",
       "      <td>Female</td>\n",
       "    </tr>\n",
       "    <tr>\n",
       "      <th>2</th>\n",
       "      <td>1</td>\n",
       "      <td>11.8</td>\n",
       "      <td>6.3</td>\n",
       "      <td>1</td>\n",
       "      <td>1</td>\n",
       "      <td>1</td>\n",
       "      <td>1</td>\n",
       "      <td>Male</td>\n",
       "    </tr>\n",
       "    <tr>\n",
       "      <th>3</th>\n",
       "      <td>1</td>\n",
       "      <td>14.4</td>\n",
       "      <td>6.1</td>\n",
       "      <td>0</td>\n",
       "      <td>1</td>\n",
       "      <td>1</td>\n",
       "      <td>1</td>\n",
       "      <td>Male</td>\n",
       "    </tr>\n",
       "    <tr>\n",
       "      <th>4</th>\n",
       "      <td>1</td>\n",
       "      <td>13.5</td>\n",
       "      <td>5.9</td>\n",
       "      <td>0</td>\n",
       "      <td>0</td>\n",
       "      <td>0</td>\n",
       "      <td>0</td>\n",
       "      <td>Female</td>\n",
       "    </tr>\n",
       "    <tr>\n",
       "      <th>...</th>\n",
       "      <td>...</td>\n",
       "      <td>...</td>\n",
       "      <td>...</td>\n",
       "      <td>...</td>\n",
       "      <td>...</td>\n",
       "      <td>...</td>\n",
       "      <td>...</td>\n",
       "      <td>...</td>\n",
       "    </tr>\n",
       "    <tr>\n",
       "      <th>4996</th>\n",
       "      <td>1</td>\n",
       "      <td>13.6</td>\n",
       "      <td>5.1</td>\n",
       "      <td>0</td>\n",
       "      <td>0</td>\n",
       "      <td>0</td>\n",
       "      <td>0</td>\n",
       "      <td>Female</td>\n",
       "    </tr>\n",
       "    <tr>\n",
       "      <th>4997</th>\n",
       "      <td>1</td>\n",
       "      <td>11.9</td>\n",
       "      <td>5.4</td>\n",
       "      <td>0</td>\n",
       "      <td>0</td>\n",
       "      <td>0</td>\n",
       "      <td>0</td>\n",
       "      <td>Female</td>\n",
       "    </tr>\n",
       "    <tr>\n",
       "      <th>4998</th>\n",
       "      <td>1</td>\n",
       "      <td>12.9</td>\n",
       "      <td>5.7</td>\n",
       "      <td>0</td>\n",
       "      <td>0</td>\n",
       "      <td>0</td>\n",
       "      <td>0</td>\n",
       "      <td>Female</td>\n",
       "    </tr>\n",
       "    <tr>\n",
       "      <th>4999</th>\n",
       "      <td>1</td>\n",
       "      <td>13.2</td>\n",
       "      <td>6.2</td>\n",
       "      <td>0</td>\n",
       "      <td>0</td>\n",
       "      <td>0</td>\n",
       "      <td>0</td>\n",
       "      <td>Female</td>\n",
       "    </tr>\n",
       "    <tr>\n",
       "      <th>5000</th>\n",
       "      <td>1</td>\n",
       "      <td>15.4</td>\n",
       "      <td>5.4</td>\n",
       "      <td>1</td>\n",
       "      <td>1</td>\n",
       "      <td>1</td>\n",
       "      <td>1</td>\n",
       "      <td>Male</td>\n",
       "    </tr>\n",
       "  </tbody>\n",
       "</table>\n",
       "<p>5001 rows × 8 columns</p>\n",
       "</div>"
      ],
      "text/plain": [
       "      long_hair  forehead_width_cm  forehead_height_cm  nose_wide  nose_long  \\\n",
       "0             1               11.8                 6.1          1          0   \n",
       "1             1               14.0                 5.4          0          0   \n",
       "2             1               11.8                 6.3          1          1   \n",
       "3             1               14.4                 6.1          0          1   \n",
       "4             1               13.5                 5.9          0          0   \n",
       "...         ...                ...                 ...        ...        ...   \n",
       "4996          1               13.6                 5.1          0          0   \n",
       "4997          1               11.9                 5.4          0          0   \n",
       "4998          1               12.9                 5.7          0          0   \n",
       "4999          1               13.2                 6.2          0          0   \n",
       "5000          1               15.4                 5.4          1          1   \n",
       "\n",
       "      lips_thin  distance_nose_to_lip_long  gender  \n",
       "0             1                          1    Male  \n",
       "1             1                          0  Female  \n",
       "2             1                          1    Male  \n",
       "3             1                          1    Male  \n",
       "4             0                          0  Female  \n",
       "...         ...                        ...     ...  \n",
       "4996          0                          0  Female  \n",
       "4997          0                          0  Female  \n",
       "4998          0                          0  Female  \n",
       "4999          0                          0  Female  \n",
       "5000          1                          1    Male  \n",
       "\n",
       "[5001 rows x 8 columns]"
      ]
     },
     "execution_count": 3,
     "metadata": {},
     "output_type": "execute_result"
    }
   ],
   "source": [
    "dataset"
   ]
  },
  {
   "cell_type": "code",
   "execution_count": 4,
   "id": "18406f1d",
   "metadata": {},
   "outputs": [
    {
     "data": {
      "text/plain": [
       "Index(['long_hair', 'forehead_width_cm', 'forehead_height_cm', 'nose_wide',\n",
       "       'nose_long', 'lips_thin', 'distance_nose_to_lip_long', 'gender'],\n",
       "      dtype='object')"
      ]
     },
     "execution_count": 4,
     "metadata": {},
     "output_type": "execute_result"
    }
   ],
   "source": [
    "dataset.columns"
   ]
  },
  {
   "cell_type": "code",
   "execution_count": 5,
   "id": "ecd130a7",
   "metadata": {},
   "outputs": [],
   "source": [
    "class univarient():\n",
    "    def qualquan():\n",
    "        qual=[]\n",
    "        quan=[]\n",
    "        for columnName in dataset.columns:\n",
    "            if dataset[columnName].dtype=='O':\n",
    "                qual.append(columnName)\n",
    "            else:\n",
    "                quan.append(columnName)\n",
    "        return qual,quan"
   ]
  },
  {
   "cell_type": "code",
   "execution_count": 13,
   "id": "bbdd9a48",
   "metadata": {},
   "outputs": [],
   "source": [
    "qual,quan=univarient.qualquan()"
   ]
  },
  {
   "cell_type": "code",
   "execution_count": 14,
   "id": "c5d2c5c2",
   "metadata": {},
   "outputs": [
    {
     "data": {
      "text/plain": [
       "['long_hair',\n",
       " 'forehead_width_cm',\n",
       " 'forehead_height_cm',\n",
       " 'nose_wide',\n",
       " 'nose_long',\n",
       " 'lips_thin',\n",
       " 'distance_nose_to_lip_long']"
      ]
     },
     "execution_count": 14,
     "metadata": {},
     "output_type": "execute_result"
    }
   ],
   "source": [
    "quan"
   ]
  },
  {
   "cell_type": "code",
   "execution_count": 17,
   "id": "d8d3d295",
   "metadata": {},
   "outputs": [],
   "source": [
    "table=pd.DataFrame(index=['Mean','Median','Mode'],columns=quan)\n",
    "for columnName in quan:\n",
    "    table[columnName][\"Mean\"]=dataset[columnName].mean()\n",
    "    table[columnName][\"Median\"]=dataset[columnName].median()\n",
    "    table[columnName][\"Mode\"]=dataset[columnName].mode()[0]"
   ]
  },
  {
   "cell_type": "code",
   "execution_count": 18,
   "id": "11a9af3f",
   "metadata": {},
   "outputs": [
    {
     "data": {
      "text/html": [
       "<div>\n",
       "<style scoped>\n",
       "    .dataframe tbody tr th:only-of-type {\n",
       "        vertical-align: middle;\n",
       "    }\n",
       "\n",
       "    .dataframe tbody tr th {\n",
       "        vertical-align: top;\n",
       "    }\n",
       "\n",
       "    .dataframe thead th {\n",
       "        text-align: right;\n",
       "    }\n",
       "</style>\n",
       "<table border=\"1\" class=\"dataframe\">\n",
       "  <thead>\n",
       "    <tr style=\"text-align: right;\">\n",
       "      <th></th>\n",
       "      <th>long_hair</th>\n",
       "      <th>forehead_width_cm</th>\n",
       "      <th>forehead_height_cm</th>\n",
       "      <th>nose_wide</th>\n",
       "      <th>nose_long</th>\n",
       "      <th>lips_thin</th>\n",
       "      <th>distance_nose_to_lip_long</th>\n",
       "    </tr>\n",
       "  </thead>\n",
       "  <tbody>\n",
       "    <tr>\n",
       "      <th>Mean</th>\n",
       "      <td>1</td>\n",
       "      <td>13.1815</td>\n",
       "      <td>5.94631</td>\n",
       "      <td>0.493901</td>\n",
       "      <td>0.507898</td>\n",
       "      <td>0.493101</td>\n",
       "      <td>0.4989</td>\n",
       "    </tr>\n",
       "    <tr>\n",
       "      <th>Median</th>\n",
       "      <td>1</td>\n",
       "      <td>13.1</td>\n",
       "      <td>5.9</td>\n",
       "      <td>0</td>\n",
       "      <td>1</td>\n",
       "      <td>0</td>\n",
       "      <td>0</td>\n",
       "    </tr>\n",
       "    <tr>\n",
       "      <th>Mode</th>\n",
       "      <td>1</td>\n",
       "      <td>12</td>\n",
       "      <td>5.7</td>\n",
       "      <td>0</td>\n",
       "      <td>1</td>\n",
       "      <td>0</td>\n",
       "      <td>0</td>\n",
       "    </tr>\n",
       "  </tbody>\n",
       "</table>\n",
       "</div>"
      ],
      "text/plain": [
       "       long_hair forehead_width_cm forehead_height_cm nose_wide nose_long  \\\n",
       "Mean           1           13.1815            5.94631  0.493901  0.507898   \n",
       "Median         1              13.1                5.9         0         1   \n",
       "Mode           1                12                5.7         0         1   \n",
       "\n",
       "       lips_thin distance_nose_to_lip_long  \n",
       "Mean    0.493101                    0.4989  \n",
       "Median         0                         0  \n",
       "Mode           0                         0  "
      ]
     },
     "execution_count": 18,
     "metadata": {},
     "output_type": "execute_result"
    }
   ],
   "source": [
    "table"
   ]
  },
  {
   "cell_type": "markdown",
   "id": "8e2a7cda",
   "metadata": {},
   "source": [
    "# Frenquncy"
   ]
  },
  {
   "cell_type": "code",
   "execution_count": 19,
   "id": "0f4b64ba",
   "metadata": {},
   "outputs": [],
   "source": [
    "freqn_table=pd.DataFrame(columns=['Unique_values','Frequency','Relation_freq','Cumsum'])"
   ]
  },
  {
   "cell_type": "code",
   "execution_count": 20,
   "id": "b8c60e96",
   "metadata": {},
   "outputs": [
    {
     "data": {
      "text/html": [
       "<div>\n",
       "<style scoped>\n",
       "    .dataframe tbody tr th:only-of-type {\n",
       "        vertical-align: middle;\n",
       "    }\n",
       "\n",
       "    .dataframe tbody tr th {\n",
       "        vertical-align: top;\n",
       "    }\n",
       "\n",
       "    .dataframe thead th {\n",
       "        text-align: right;\n",
       "    }\n",
       "</style>\n",
       "<table border=\"1\" class=\"dataframe\">\n",
       "  <thead>\n",
       "    <tr style=\"text-align: right;\">\n",
       "      <th></th>\n",
       "      <th>Unique_values</th>\n",
       "      <th>Frequency</th>\n",
       "      <th>Relation_freq</th>\n",
       "      <th>Cumsum</th>\n",
       "    </tr>\n",
       "  </thead>\n",
       "  <tbody>\n",
       "  </tbody>\n",
       "</table>\n",
       "</div>"
      ],
      "text/plain": [
       "Empty DataFrame\n",
       "Columns: [Unique_values, Frequency, Relation_freq, Cumsum]\n",
       "Index: []"
      ]
     },
     "execution_count": 20,
     "metadata": {},
     "output_type": "execute_result"
    }
   ],
   "source": [
    "freqn_table"
   ]
  },
  {
   "cell_type": "code",
   "execution_count": 22,
   "id": "28023d15",
   "metadata": {},
   "outputs": [],
   "source": [
    "freqn_table['Unique_values']=dataset['nose_wide'].value_counts().index\n",
    "freqn_table['Frequency']=dataset['nose_wide'].value_counts().values\n",
    "freqn_table['Relation_freq']=freqn_table['Frequency']/103\n",
    "freqn_table['Cumsum']=freqn_table['Relation_freq'].cumsum()"
   ]
  },
  {
   "cell_type": "code",
   "execution_count": 23,
   "id": "434c5928",
   "metadata": {},
   "outputs": [
    {
     "data": {
      "text/html": [
       "<div>\n",
       "<style scoped>\n",
       "    .dataframe tbody tr th:only-of-type {\n",
       "        vertical-align: middle;\n",
       "    }\n",
       "\n",
       "    .dataframe tbody tr th {\n",
       "        vertical-align: top;\n",
       "    }\n",
       "\n",
       "    .dataframe thead th {\n",
       "        text-align: right;\n",
       "    }\n",
       "</style>\n",
       "<table border=\"1\" class=\"dataframe\">\n",
       "  <thead>\n",
       "    <tr style=\"text-align: right;\">\n",
       "      <th></th>\n",
       "      <th>Unique_values</th>\n",
       "      <th>Frequency</th>\n",
       "      <th>Relation_freq</th>\n",
       "      <th>Cumsum</th>\n",
       "    </tr>\n",
       "  </thead>\n",
       "  <tbody>\n",
       "    <tr>\n",
       "      <th>0</th>\n",
       "      <td>0</td>\n",
       "      <td>2531</td>\n",
       "      <td>24.572816</td>\n",
       "      <td>24.572816</td>\n",
       "    </tr>\n",
       "    <tr>\n",
       "      <th>1</th>\n",
       "      <td>1</td>\n",
       "      <td>2470</td>\n",
       "      <td>23.980583</td>\n",
       "      <td>48.553398</td>\n",
       "    </tr>\n",
       "  </tbody>\n",
       "</table>\n",
       "</div>"
      ],
      "text/plain": [
       "   Unique_values  Frequency  Relation_freq     Cumsum\n",
       "0              0       2531      24.572816  24.572816\n",
       "1              1       2470      23.980583  48.553398"
      ]
     },
     "execution_count": 23,
     "metadata": {},
     "output_type": "execute_result"
    }
   ],
   "source": [
    "freqn_table"
   ]
  },
  {
   "cell_type": "code",
   "execution_count": 24,
   "id": "30331e98",
   "metadata": {},
   "outputs": [],
   "source": [
    "def frequency(columnName,dataset):\n",
    "    freqn_table=pd.DataFrame(columns=['Unique_values','Frequency','Relation_freq','Cumsum'])\n",
    "    freqn_table['Unique_values']=dataset[columnName].value_counts().index\n",
    "    freqn_table['Frequency']=dataset[columnName].value_counts().values\n",
    "    freqn_table['Relation_freq']=freqn_table['Frequency']/103\n",
    "    freqn_table['Cumsum']=freqn_table['Relation_freq'].cumsum()\n",
    "    return freqn_table"
   ]
  },
  {
   "cell_type": "code",
   "execution_count": 26,
   "id": "9c620ad0",
   "metadata": {},
   "outputs": [
    {
     "data": {
      "text/html": [
       "<div>\n",
       "<style scoped>\n",
       "    .dataframe tbody tr th:only-of-type {\n",
       "        vertical-align: middle;\n",
       "    }\n",
       "\n",
       "    .dataframe tbody tr th {\n",
       "        vertical-align: top;\n",
       "    }\n",
       "\n",
       "    .dataframe thead th {\n",
       "        text-align: right;\n",
       "    }\n",
       "</style>\n",
       "<table border=\"1\" class=\"dataframe\">\n",
       "  <thead>\n",
       "    <tr style=\"text-align: right;\">\n",
       "      <th></th>\n",
       "      <th>Unique_values</th>\n",
       "      <th>Frequency</th>\n",
       "      <th>Relation_freq</th>\n",
       "      <th>Cumsum</th>\n",
       "    </tr>\n",
       "  </thead>\n",
       "  <tbody>\n",
       "    <tr>\n",
       "      <th>0</th>\n",
       "      <td>0</td>\n",
       "      <td>2531</td>\n",
       "      <td>24.572816</td>\n",
       "      <td>24.572816</td>\n",
       "    </tr>\n",
       "    <tr>\n",
       "      <th>1</th>\n",
       "      <td>1</td>\n",
       "      <td>2470</td>\n",
       "      <td>23.980583</td>\n",
       "      <td>48.553398</td>\n",
       "    </tr>\n",
       "  </tbody>\n",
       "</table>\n",
       "</div>"
      ],
      "text/plain": [
       "   Unique_values  Frequency  Relation_freq     Cumsum\n",
       "0              0       2531      24.572816  24.572816\n",
       "1              1       2470      23.980583  48.553398"
      ]
     },
     "execution_count": 26,
     "metadata": {},
     "output_type": "execute_result"
    }
   ],
   "source": [
    "frequency('nose_wide',dataset)"
   ]
  },
  {
   "cell_type": "markdown",
   "id": "1757067e",
   "metadata": {},
   "source": [
    "# Histogram, Skewness, Kurtosis"
   ]
  },
  {
   "cell_type": "code",
   "execution_count": 32,
   "id": "30fcf7af",
   "metadata": {},
   "outputs": [],
   "source": [
    "table=pd.DataFrame(index=['Mean','Median','Mode','Skew','Kurtosis'],columns=quan)\n",
    "for columnName in quan:\n",
    "    table[columnName]['Mean']=dataset[columnName].mean()\n",
    "    table[columnName]['Median']=dataset[columnName].median()\n",
    "    table[columnName]['Mode']=dataset[columnName].mode()[0]\n",
    "    table[columnName]['Skew']=dataset[columnName].skew()\n",
    "    table[columnName]['Kurtosis']=dataset[columnName].kurtosis()\n",
    "    \n",
    "    "
   ]
  },
  {
   "cell_type": "code",
   "execution_count": 33,
   "id": "30b2c413",
   "metadata": {},
   "outputs": [
    {
     "data": {
      "text/html": [
       "<div>\n",
       "<style scoped>\n",
       "    .dataframe tbody tr th:only-of-type {\n",
       "        vertical-align: middle;\n",
       "    }\n",
       "\n",
       "    .dataframe tbody tr th {\n",
       "        vertical-align: top;\n",
       "    }\n",
       "\n",
       "    .dataframe thead th {\n",
       "        text-align: right;\n",
       "    }\n",
       "</style>\n",
       "<table border=\"1\" class=\"dataframe\">\n",
       "  <thead>\n",
       "    <tr style=\"text-align: right;\">\n",
       "      <th></th>\n",
       "      <th>long_hair</th>\n",
       "      <th>forehead_width_cm</th>\n",
       "      <th>forehead_height_cm</th>\n",
       "      <th>nose_wide</th>\n",
       "      <th>nose_long</th>\n",
       "      <th>lips_thin</th>\n",
       "      <th>distance_nose_to_lip_long</th>\n",
       "    </tr>\n",
       "  </thead>\n",
       "  <tbody>\n",
       "    <tr>\n",
       "      <th>Mean</th>\n",
       "      <td>1</td>\n",
       "      <td>13.1815</td>\n",
       "      <td>5.94631</td>\n",
       "      <td>0.493901</td>\n",
       "      <td>0.507898</td>\n",
       "      <td>0.493101</td>\n",
       "      <td>0.4989</td>\n",
       "    </tr>\n",
       "    <tr>\n",
       "      <th>Median</th>\n",
       "      <td>1</td>\n",
       "      <td>13.1</td>\n",
       "      <td>5.9</td>\n",
       "      <td>0</td>\n",
       "      <td>1</td>\n",
       "      <td>0</td>\n",
       "      <td>0</td>\n",
       "    </tr>\n",
       "    <tr>\n",
       "      <th>Mode</th>\n",
       "      <td>1</td>\n",
       "      <td>12</td>\n",
       "      <td>5.7</td>\n",
       "      <td>0</td>\n",
       "      <td>1</td>\n",
       "      <td>0</td>\n",
       "      <td>0</td>\n",
       "    </tr>\n",
       "    <tr>\n",
       "      <th>Skew</th>\n",
       "      <td>0</td>\n",
       "      <td>0.242242</td>\n",
       "      <td>0.250739</td>\n",
       "      <td>0.0244043</td>\n",
       "      <td>-0.0316071</td>\n",
       "      <td>0.0276054</td>\n",
       "      <td>0.00440045</td>\n",
       "    </tr>\n",
       "    <tr>\n",
       "      <th>Kurtosis</th>\n",
       "      <td>0</td>\n",
       "      <td>-0.930596</td>\n",
       "      <td>-0.848889</td>\n",
       "      <td>-2.0002</td>\n",
       "      <td>-1.9998</td>\n",
       "      <td>-2.00004</td>\n",
       "      <td>-2.00078</td>\n",
       "    </tr>\n",
       "  </tbody>\n",
       "</table>\n",
       "</div>"
      ],
      "text/plain": [
       "         long_hair forehead_width_cm forehead_height_cm  nose_wide  nose_long  \\\n",
       "Mean             1           13.1815            5.94631   0.493901   0.507898   \n",
       "Median           1              13.1                5.9          0          1   \n",
       "Mode             1                12                5.7          0          1   \n",
       "Skew             0          0.242242           0.250739  0.0244043 -0.0316071   \n",
       "Kurtosis         0         -0.930596          -0.848889    -2.0002    -1.9998   \n",
       "\n",
       "          lips_thin distance_nose_to_lip_long  \n",
       "Mean       0.493101                    0.4989  \n",
       "Median            0                         0  \n",
       "Mode              0                         0  \n",
       "Skew      0.0276054                0.00440045  \n",
       "Kurtosis   -2.00004                  -2.00078  "
      ]
     },
     "execution_count": 33,
     "metadata": {},
     "output_type": "execute_result"
    }
   ],
   "source": [
    "table"
   ]
  },
  {
   "cell_type": "code",
   "execution_count": null,
   "id": "46b33732",
   "metadata": {},
   "outputs": [],
   "source": []
  },
  {
   "cell_type": "code",
   "execution_count": null,
   "id": "35ba41bb",
   "metadata": {},
   "outputs": [],
   "source": []
  }
 ],
 "metadata": {
  "kernelspec": {
   "display_name": "Python 3 (ipykernel)",
   "language": "python",
   "name": "python3"
  },
  "language_info": {
   "codemirror_mode": {
    "name": "ipython",
    "version": 3
   },
   "file_extension": ".py",
   "mimetype": "text/x-python",
   "name": "python",
   "nbconvert_exporter": "python",
   "pygments_lexer": "ipython3",
   "version": "3.7.6"
  }
 },
 "nbformat": 4,
 "nbformat_minor": 5
}
