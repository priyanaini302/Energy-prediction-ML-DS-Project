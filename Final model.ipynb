{
 "cells": [
  {
   "cell_type": "code",
   "execution_count": 1,
   "id": "373207dc",
   "metadata": {},
   "outputs": [],
   "source": [
    "import pickle\n",
    "loaded_model=pickle.load(open('Random_forest_finalmodel.sav','rb'))"
   ]
  },
  {
   "cell_type": "code",
   "execution_count": 2,
   "id": "e8c0efa6",
   "metadata": {},
   "outputs": [
    {
     "name": "stdout",
     "output_type": "stream",
     "text": [
      "Enter nose_wide range 0 or 1 : 0 \n",
      "Enter nose_long range 0 or 1: 1\n",
      "Enter lips_thin range 0 or 1: 1\n",
      "Enter distance_nose_to_lip_long 0 or 1: 0\n"
     ]
    }
   ],
   "source": [
    "nose_wide=int(input('Enter nose_wide range 0 or 1 : '))\n",
    "nose_long=int(input('Enter nose_long range 0 or 1: '))\n",
    "lips_thin=int(input('Enter lips_thin range 0 or 1: '))\n",
    "distance_nose_to_lip_long=int(input('Enter distance_nose_to_lip_long 0 or 1: '))"
   ]
  },
  {
   "cell_type": "code",
   "execution_count": 3,
   "id": "049d6124",
   "metadata": {},
   "outputs": [
    {
     "name": "stderr",
     "output_type": "stream",
     "text": [
      "C:\\Users\\Priya\\Anaconda3\\envs\\aiml\\lib\\site-packages\\sklearn\\utils\\fixes.py:230: DeprecationWarning: distutils Version classes are deprecated. Use packaging.version instead.\n",
      "  if _joblib.__version__ >= LooseVersion('0.12'):\n"
     ]
    }
   ],
   "source": [
    "result=loaded_model.predict([[nose_wide,nose_long,lips_thin,distance_nose_to_lip_long]])"
   ]
  },
  {
   "cell_type": "code",
   "execution_count": 4,
   "id": "7c180fa3",
   "metadata": {},
   "outputs": [
    {
     "data": {
      "text/plain": [
       "array([0], dtype=uint8)"
      ]
     },
     "execution_count": 4,
     "metadata": {},
     "output_type": "execute_result"
    }
   ],
   "source": [
    "result"
   ]
  },
  {
   "cell_type": "code",
   "execution_count": null,
   "id": "404a1df2",
   "metadata": {},
   "outputs": [],
   "source": []
  }
 ],
 "metadata": {
  "kernelspec": {
   "display_name": "Python 3 (ipykernel)",
   "language": "python",
   "name": "python3"
  },
  "language_info": {
   "codemirror_mode": {
    "name": "ipython",
    "version": 3
   },
   "file_extension": ".py",
   "mimetype": "text/x-python",
   "name": "python",
   "nbconvert_exporter": "python",
   "pygments_lexer": "ipython3",
   "version": "3.7.6"
  }
 },
 "nbformat": 4,
 "nbformat_minor": 5
}
